{
 "cells": [
  {
   "cell_type": "markdown",
   "metadata": {},
   "source": [
    "# Базовая часть"
   ]
  },
  {
   "cell_type": "markdown",
   "metadata": {},
   "source": [
    "## Задание 1.1\n",
    "\n",
    "Напишите функцию, которая принимает список чисел my_list (количество товаров разных марок) и число $n$ и возвращает сумму всех чисел списка меньше либо равных $n$ (суммарное количество товаров, которых в наличие меньше либо равно $n$)."
   ]
  },
  {
   "cell_type": "code",
   "execution_count": 44,
   "metadata": {},
   "outputs": [],
   "source": [
    "def function_1_1(my_list, n):\n",
    "    # допишите код здесь\n",
    "    res = 0\n",
    "    for a in my_list:\n",
    "        if (a <= n):\n",
    "            res += a\n",
    "    return res"
   ]
  },
  {
   "cell_type": "code",
   "execution_count": 45,
   "metadata": {},
   "outputs": [
    {
     "data": {
      "text/plain": [
       "True"
      ]
     },
     "execution_count": 45,
     "metadata": {},
     "output_type": "execute_result"
    }
   ],
   "source": [
    "function_1_1([1, 2, 3, 4, 5, 6, 3, 7], 7) == 31"
   ]
  },
  {
   "cell_type": "code",
   "execution_count": 46,
   "metadata": {},
   "outputs": [
    {
     "data": {
      "text/plain": [
       "True"
      ]
     },
     "execution_count": 46,
     "metadata": {},
     "output_type": "execute_result"
    }
   ],
   "source": [
    "function_1_1([1, 2, 3, 4, 4, 3, 2, 1], 7) == 20"
   ]
  },
  {
   "cell_type": "code",
   "execution_count": 47,
   "metadata": {},
   "outputs": [
    {
     "data": {
      "text/plain": [
       "True"
      ]
     },
     "execution_count": 47,
     "metadata": {},
     "output_type": "execute_result"
    }
   ],
   "source": [
    "function_1_1([1, 2, 3, 4, 4, 3, 2, 1], 3) == 12"
   ]
  },
  {
   "cell_type": "code",
   "execution_count": 48,
   "metadata": {},
   "outputs": [
    {
     "data": {
      "text/plain": [
       "True"
      ]
     },
     "execution_count": 48,
     "metadata": {},
     "output_type": "execute_result"
    }
   ],
   "source": [
    "function_1_1([1, 2, 3, 4, 5, 6, 3, 7], 5) == 18"
   ]
  },
  {
   "cell_type": "code",
   "execution_count": 49,
   "metadata": {},
   "outputs": [
    {
     "data": {
      "text/plain": [
       "True"
      ]
     },
     "execution_count": 49,
     "metadata": {},
     "output_type": "execute_result"
    }
   ],
   "source": [
    "function_1_1([1, 2, 3, 4, 5, 6, 3, 7], 3) == 9"
   ]
  },
  {
   "cell_type": "code",
   "execution_count": 50,
   "metadata": {},
   "outputs": [
    {
     "data": {
      "text/plain": [
       "True"
      ]
     },
     "execution_count": 50,
     "metadata": {},
     "output_type": "execute_result"
    }
   ],
   "source": [
    "function_1_1([1, 2, 3, 4, 5, 6, 3, 7], 0) == 0"
   ]
  },
  {
   "cell_type": "markdown",
   "metadata": {},
   "source": [
    "#### Значение для формы"
   ]
  },
  {
   "cell_type": "code",
   "execution_count": 51,
   "metadata": {},
   "outputs": [
    {
     "name": "stdout",
     "output_type": "stream",
     "text": [
      "2496584\n"
     ]
    }
   ],
   "source": [
    "import random\n",
    "\n",
    "random.seed(42)\n",
    "print(function_1_1([random.randint(0, 1000) for _ in range(10000)], 700))"
   ]
  },
  {
   "cell_type": "markdown",
   "metadata": {},
   "source": [
    "## Задание 1.2\n",
    "\n",
    "Имеется список пар (фамилия, долг) $my\\_list$ и число $dept$. Нужно написать функцию, которая для каждой фамилии находит суммарный долг и выводит отсортированный список фамилий, у которых долг строго больше $dept$.\n",
    "\n",
    "Одна и та же фамилия может встречаться несколько раз, и тогда долги по ней суммируются."
   ]
  },
  {
   "cell_type": "code",
   "execution_count": 52,
   "metadata": {},
   "outputs": [],
   "source": [
    "def function_1_2(my_list, dept):\n",
    "    # допишите код здесь\n",
    "    my_list.sort()\n",
    "    cur_dept = my_list[0][1]\n",
    "    my_list.append((\"\", 0))\n",
    "    result = []\n",
    "    for i in range(len(my_list) - 1):\n",
    "        if (my_list[i][0] == my_list[i + 1][0]):\n",
    "            cur_dept += my_list[i + 1][1]\n",
    "        else:\n",
    "            if (cur_dept > dept):\n",
    "                result.append(my_list[i][0])\n",
    "            cur_dept = my_list[i + 1][1]\n",
    "        \n",
    "    return result"
   ]
  },
  {
   "cell_type": "code",
   "execution_count": 53,
   "metadata": {},
   "outputs": [
    {
     "data": {
      "text/plain": [
       "['Ivanov', 'Sidorov']"
      ]
     },
     "execution_count": 53,
     "metadata": {},
     "output_type": "execute_result"
    }
   ],
   "source": [
    "function_1_2([('Ivanov', 1), ('Petrov', 2), ('Ivanov', 2), ('Sidorov', 4)], 2)"
   ]
  },
  {
   "cell_type": "code",
   "execution_count": 54,
   "metadata": {},
   "outputs": [],
   "source": [
    "import numpy as np\n"
   ]
  },
  {
   "cell_type": "code",
   "execution_count": 55,
   "metadata": {},
   "outputs": [],
   "source": [
    "a = [(1, 0), (4, -7), (2, 0), (0, -3)]\n",
    "a.sort()"
   ]
  },
  {
   "cell_type": "code",
   "execution_count": 56,
   "metadata": {},
   "outputs": [
    {
     "data": {
      "text/plain": [
       "[(0, -3), (1, 0), (2, 0), (4, -7)]"
      ]
     },
     "execution_count": 56,
     "metadata": {},
     "output_type": "execute_result"
    }
   ],
   "source": [
    "a"
   ]
  },
  {
   "cell_type": "code",
   "execution_count": 57,
   "metadata": {},
   "outputs": [
    {
     "data": {
      "text/plain": [
       "True"
      ]
     },
     "execution_count": 57,
     "metadata": {},
     "output_type": "execute_result"
    }
   ],
   "source": [
    "function_1_2([('Ivanov', 1), ('Petrov', 2), ('Ivanov', 2), ('Sidorov', 4)], 1) == ['Ivanov', 'Petrov', 'Sidorov']"
   ]
  },
  {
   "cell_type": "code",
   "execution_count": 58,
   "metadata": {},
   "outputs": [
    {
     "data": {
      "text/plain": [
       "True"
      ]
     },
     "execution_count": 58,
     "metadata": {},
     "output_type": "execute_result"
    }
   ],
   "source": [
    "function_1_2([('Ivanov', 1), ('Petrov', 2), ('Ivanov', 2), ('Sidorov', 4)], 2) == ['Ivanov', 'Sidorov']"
   ]
  },
  {
   "cell_type": "code",
   "execution_count": 59,
   "metadata": {},
   "outputs": [
    {
     "data": {
      "text/plain": [
       "True"
      ]
     },
     "execution_count": 59,
     "metadata": {},
     "output_type": "execute_result"
    }
   ],
   "source": [
    "function_1_2([('Ivanov', 1), ('Petrov', 2), ('Ivanov', 2), ('Sidorov', 4)], 3) == ['Sidorov']"
   ]
  },
  {
   "cell_type": "code",
   "execution_count": 60,
   "metadata": {},
   "outputs": [
    {
     "data": {
      "text/plain": [
       "True"
      ]
     },
     "execution_count": 60,
     "metadata": {},
     "output_type": "execute_result"
    }
   ],
   "source": [
    "function_1_2([('Ivanov', 1), ('Petrov', 2), ('Ivanov', 2), ('Sidorov', 4)], 4) == []"
   ]
  },
  {
   "cell_type": "code",
   "execution_count": 61,
   "metadata": {},
   "outputs": [
    {
     "data": {
      "text/plain": [
       "True"
      ]
     },
     "execution_count": 61,
     "metadata": {},
     "output_type": "execute_result"
    }
   ],
   "source": [
    "function_1_2([('Ivanov', 1), ('Petrov', 2), ('Ivanov', 1), ('Sidorov', 4)], 2) == ['Sidorov']"
   ]
  },
  {
   "cell_type": "code",
   "execution_count": 62,
   "metadata": {},
   "outputs": [
    {
     "data": {
      "text/plain": [
       "True"
      ]
     },
     "execution_count": 62,
     "metadata": {},
     "output_type": "execute_result"
    }
   ],
   "source": [
    "function_1_2([('Ivanov', 1), ('Petrov', 2), ('Ivanov', 2), ('Petrov', 4)], 2) == ['Ivanov', 'Petrov']"
   ]
  },
  {
   "cell_type": "code",
   "execution_count": 63,
   "metadata": {},
   "outputs": [
    {
     "data": {
      "text/plain": [
       "True"
      ]
     },
     "execution_count": 63,
     "metadata": {},
     "output_type": "execute_result"
    }
   ],
   "source": [
    "function_1_2([('Ivanov', 1), ('Petrov', 2), ('Ivanov', 2), ('Petrov', 4)], 3) == ['Petrov']"
   ]
  },
  {
   "cell_type": "markdown",
   "metadata": {},
   "source": [
    "#### Значение для формы"
   ]
  },
  {
   "cell_type": "code",
   "execution_count": 64,
   "metadata": {},
   "outputs": [
    {
     "name": "stdout",
     "output_type": "stream",
     "text": [
      "10,11,14,18,19,3,4,5,8,9\n"
     ]
    }
   ],
   "source": [
    "import random\n",
    "import numpy as np\n",
    "\n",
    "\n",
    "random.seed(42)\n",
    "print(','.join(function_1_2([\n",
    "    (str(random.randint(1, 20)), random.randint(1, 1000) )\n",
    "    for _ in range(1000)\n",
    "], 25000)))"
   ]
  },
  {
   "cell_type": "markdown",
   "metadata": {},
   "source": [
    "# Продвинутая часть"
   ]
  },
  {
   "cell_type": "markdown",
   "metadata": {},
   "source": [
    "## Задание 2.1\n",
    "\n",
    "Напишите функцию, принимающую число $n$ и считающую $n!$, не используя модуль math\n",
    "\n",
    "$n! = 1 \\cdot 2 \\cdot 3 \\cdot \\dots \\cdot (n - 1) \\cdot n$\n",
    "\n",
    "Подсказка: воспользуйтесь циклами"
   ]
  },
  {
   "cell_type": "code",
   "execution_count": 65,
   "metadata": {},
   "outputs": [],
   "source": [
    "def function_2_1(n):\n",
    "    # допишите код здесь\n",
    "    fact = 1\n",
    "    for i in range(1, n + 1):\n",
    "        fact *= i\n",
    "    return fact"
   ]
  },
  {
   "cell_type": "code",
   "execution_count": 66,
   "metadata": {},
   "outputs": [
    {
     "data": {
      "text/plain": [
       "6"
      ]
     },
     "execution_count": 66,
     "metadata": {},
     "output_type": "execute_result"
    }
   ],
   "source": [
    "function_2_1(3)"
   ]
  },
  {
   "cell_type": "code",
   "execution_count": 67,
   "metadata": {},
   "outputs": [
    {
     "data": {
      "text/plain": [
       "True"
      ]
     },
     "execution_count": 67,
     "metadata": {},
     "output_type": "execute_result"
    }
   ],
   "source": [
    "function_2_1(3) == 6"
   ]
  },
  {
   "cell_type": "code",
   "execution_count": 68,
   "metadata": {},
   "outputs": [
    {
     "data": {
      "text/plain": [
       "True"
      ]
     },
     "execution_count": 68,
     "metadata": {},
     "output_type": "execute_result"
    }
   ],
   "source": [
    "function_2_1(5) == 120"
   ]
  },
  {
   "cell_type": "code",
   "execution_count": 69,
   "metadata": {},
   "outputs": [
    {
     "data": {
      "text/plain": [
       "True"
      ]
     },
     "execution_count": 69,
     "metadata": {},
     "output_type": "execute_result"
    }
   ],
   "source": [
    "function_2_1(9) == 362880"
   ]
  },
  {
   "cell_type": "code",
   "execution_count": 70,
   "metadata": {},
   "outputs": [
    {
     "data": {
      "text/plain": [
       "True"
      ]
     },
     "execution_count": 70,
     "metadata": {},
     "output_type": "execute_result"
    }
   ],
   "source": [
    "function_2_1(13) == 6227020800"
   ]
  },
  {
   "cell_type": "markdown",
   "metadata": {},
   "source": [
    "#### Значение для формы"
   ]
  },
  {
   "cell_type": "code",
   "execution_count": 71,
   "metadata": {},
   "outputs": [
    {
     "name": "stdout",
     "output_type": "stream",
     "text": [
      "93326215443944152681699238856266700490715968264381621468592963895217599993229915608941463976156518286253697920827223758251185210916864000000000000000000000000\n"
     ]
    }
   ],
   "source": [
    "print(function_2_1(100))"
   ]
  },
  {
   "cell_type": "markdown",
   "metadata": {},
   "source": [
    "## Задание 2.2\n",
    "\n",
    "Есть два списка чисел: цены товаров в одном магазине и цены товаров в другом магазине.\n",
    "\n",
    "Нужно сравнить средние (среднее берётся по всем товарам) цены, минимальные цены и максимальные  в магазинах. Если первое зачение меньше надо вернуть 'First', если второе, то 'Second', а если равны, то 'Equal'\n",
    "\n",
    "Например, function_2_2([1, 2, 3], [2, 2, 2])\n",
    "\n",
    "В первом магазине среднее значение 2, минимальное 1, максимальное 3. А во втором среднее 2, минимальное 2 и максимальное 2.\n",
    "\n",
    "Результаты сравнения $2 = 2,~1 < 2,~3 > 2$, поэтому нужно вернуть  ('Equal', 'First', 'Second')"
   ]
  },
  {
   "cell_type": "code",
   "execution_count": 37,
   "metadata": {},
   "outputs": [],
   "source": [
    "import numpy as np"
   ]
  },
  {
   "cell_type": "code",
   "execution_count": 72,
   "metadata": {},
   "outputs": [
    {
     "data": {
      "text/plain": [
       "1"
      ]
     },
     "execution_count": 72,
     "metadata": {},
     "output_type": "execute_result"
    }
   ],
   "source": [
    "a= np.array([1, 5, 7])\n",
    "a.mean()\n",
    "a.min()"
   ]
  },
  {
   "cell_type": "code",
   "execution_count": 73,
   "metadata": {},
   "outputs": [],
   "source": [
    "def comp(a, b):\n",
    "    if (a < b):\n",
    "        return 'First'\n",
    "    if (a > b):\n",
    "        return 'Second'\n",
    "    return 'Equal'"
   ]
  },
  {
   "cell_type": "code",
   "execution_count": 74,
   "metadata": {},
   "outputs": [],
   "source": [
    "def function_2_2(list1, list2):\n",
    "    list1, list2 = np.array(list1), np.array(list2)\n",
    "    return comp(list1.mean(), list2.mean()), comp(list1.min(), list2.min()), comp(list1.max(), list2.max())"
   ]
  },
  {
   "cell_type": "code",
   "execution_count": 75,
   "metadata": {},
   "outputs": [
    {
     "data": {
      "text/plain": [
       "True"
      ]
     },
     "execution_count": 75,
     "metadata": {},
     "output_type": "execute_result"
    }
   ],
   "source": [
    "function_2_2([1, 2, 3], [2, 2, 2]) == ('Equal', 'First', 'Second')"
   ]
  },
  {
   "cell_type": "code",
   "execution_count": 76,
   "metadata": {},
   "outputs": [
    {
     "data": {
      "text/plain": [
       "True"
      ]
     },
     "execution_count": 76,
     "metadata": {},
     "output_type": "execute_result"
    }
   ],
   "source": [
    "function_2_2([2, 2, 1], [4]) ==('First', 'First', 'First')"
   ]
  },
  {
   "cell_type": "code",
   "execution_count": 77,
   "metadata": {},
   "outputs": [
    {
     "data": {
      "text/plain": [
       "True"
      ]
     },
     "execution_count": 77,
     "metadata": {},
     "output_type": "execute_result"
    }
   ],
   "source": [
    "function_2_2([3, 5], [2, 4, 6]) == ('Equal', 'Second', 'First')"
   ]
  },
  {
   "cell_type": "code",
   "execution_count": 78,
   "metadata": {},
   "outputs": [
    {
     "data": {
      "text/plain": [
       "True"
      ]
     },
     "execution_count": 78,
     "metadata": {},
     "output_type": "execute_result"
    }
   ],
   "source": [
    "function_2_2([1, 7], [2, 4, 7]) == ('First', 'First', 'Equal')"
   ]
  },
  {
   "cell_type": "markdown",
   "metadata": {},
   "source": [
    "#### Значение для формы"
   ]
  },
  {
   "cell_type": "code",
   "execution_count": 79,
   "metadata": {},
   "outputs": [
    {
     "name": "stdout",
     "output_type": "stream",
     "text": [
      "Second,First,Second\n"
     ]
    }
   ],
   "source": [
    "import random\n",
    "\n",
    "random.seed(47)\n",
    "print(','.join(function_2_2(\n",
    "    [random.randint(0, 100000) for _ in range(1000)],\n",
    "    [random.randint(0, 100000) for _ in range(1000)]\n",
    ")))"
   ]
  },
  {
   "cell_type": "markdown",
   "metadata": {},
   "source": [
    "# Сложная часть"
   ]
  },
  {
   "cell_type": "markdown",
   "metadata": {},
   "source": [
    "## Задание 3.1\n",
    "\n",
    "Вам известны количество продаж разных товаров. Они представлены в виде списка, первое значение - число продаж первого товара, второе значение - второго, и так далее. Вы хотите посмотреть на список самых популярных товаров среди тех, у которых объём продаж не выше заданного числа.\n",
    "\n",
    "Напишите функцию, которая принимает список чисел my_list, число  $n$ и число $k$  и возвращает сумму $k$ наибольших чисел среди всех чисел списка меньше либо равных  $n$ ."
   ]
  },
  {
   "cell_type": "code",
   "execution_count": 80,
   "metadata": {},
   "outputs": [],
   "source": [
    "def function_3_1(my_list, n, k):\n",
    "    # допишите код здесь\n",
    "    lst = [x for x in my_list if x <= n]\n",
    "    lst = sorted(lst)[::-1]\n",
    "    lst = np.array(lst[:k])\n",
    "    return lst.sum()"
   ]
  },
  {
   "cell_type": "code",
   "execution_count": 81,
   "metadata": {},
   "outputs": [
    {
     "data": {
      "text/plain": [
       "7"
      ]
     },
     "execution_count": 81,
     "metadata": {},
     "output_type": "execute_result"
    }
   ],
   "source": [
    "function_3_1([1, 2, 3, 4, 5, 6, 3, 7], 7, 1)"
   ]
  },
  {
   "cell_type": "code",
   "execution_count": 82,
   "metadata": {},
   "outputs": [
    {
     "data": {
      "text/plain": [
       "True"
      ]
     },
     "execution_count": 82,
     "metadata": {},
     "output_type": "execute_result"
    }
   ],
   "source": [
    "function_3_1([1, 2, 3, 4, 5, 6, 3, 7], 7, 1) == 7"
   ]
  },
  {
   "cell_type": "code",
   "execution_count": 83,
   "metadata": {},
   "outputs": [
    {
     "data": {
      "text/plain": [
       "True"
      ]
     },
     "execution_count": 83,
     "metadata": {},
     "output_type": "execute_result"
    }
   ],
   "source": [
    "function_3_1([1, 2, 3, 4, 5, 6, 3, 7], 7, 3) == 18"
   ]
  },
  {
   "cell_type": "code",
   "execution_count": 84,
   "metadata": {},
   "outputs": [
    {
     "data": {
      "text/plain": [
       "True"
      ]
     },
     "execution_count": 84,
     "metadata": {},
     "output_type": "execute_result"
    }
   ],
   "source": [
    "function_3_1([1, 2, 3, 4, 5, 6, 3, 7], 7, 5) == 25"
   ]
  },
  {
   "cell_type": "code",
   "execution_count": 85,
   "metadata": {},
   "outputs": [
    {
     "data": {
      "text/plain": [
       "True"
      ]
     },
     "execution_count": 85,
     "metadata": {},
     "output_type": "execute_result"
    }
   ],
   "source": [
    "function_3_1([1, 2, 3, 4, 5, 6, 3, 7], 7, 8) == 31"
   ]
  },
  {
   "cell_type": "code",
   "execution_count": 86,
   "metadata": {},
   "outputs": [
    {
     "data": {
      "text/plain": [
       "True"
      ]
     },
     "execution_count": 86,
     "metadata": {},
     "output_type": "execute_result"
    }
   ],
   "source": [
    "function_3_1([1, 2, 3, 4, 5, 6, 3, 7], 7, 10) == 31"
   ]
  },
  {
   "cell_type": "code",
   "execution_count": 87,
   "metadata": {},
   "outputs": [
    {
     "data": {
      "text/plain": [
       "True"
      ]
     },
     "execution_count": 87,
     "metadata": {},
     "output_type": "execute_result"
    }
   ],
   "source": [
    "function_3_1([1, 5, 3, 6, 5, 6, 3, 6], 6, 3) == 18"
   ]
  },
  {
   "cell_type": "code",
   "execution_count": 88,
   "metadata": {},
   "outputs": [
    {
     "data": {
      "text/plain": [
       "True"
      ]
     },
     "execution_count": 88,
     "metadata": {},
     "output_type": "execute_result"
    }
   ],
   "source": [
    "function_3_1([1, 5, 3, 6, 5, 6, 3, 6], 5, 3) == 13"
   ]
  },
  {
   "cell_type": "code",
   "execution_count": 89,
   "metadata": {},
   "outputs": [
    {
     "data": {
      "text/plain": [
       "True"
      ]
     },
     "execution_count": 89,
     "metadata": {},
     "output_type": "execute_result"
    }
   ],
   "source": [
    "function_3_1([1, 5, 3, 6, 5, 6, 3, 6], 4, 3) == 7"
   ]
  },
  {
   "cell_type": "code",
   "execution_count": 90,
   "metadata": {},
   "outputs": [
    {
     "data": {
      "text/plain": [
       "True"
      ]
     },
     "execution_count": 90,
     "metadata": {},
     "output_type": "execute_result"
    }
   ],
   "source": [
    "function_3_1([1, 5, 3, 6, 5, 6, 3, 6], 6, 2) == 12"
   ]
  },
  {
   "cell_type": "code",
   "execution_count": 91,
   "metadata": {},
   "outputs": [
    {
     "data": {
      "text/plain": [
       "True"
      ]
     },
     "execution_count": 91,
     "metadata": {},
     "output_type": "execute_result"
    }
   ],
   "source": [
    "function_3_1([1, 5, 3, 6, 5, 6, 3, 6], 5, 2) == 10"
   ]
  },
  {
   "cell_type": "code",
   "execution_count": 92,
   "metadata": {},
   "outputs": [
    {
     "data": {
      "text/plain": [
       "True"
      ]
     },
     "execution_count": 92,
     "metadata": {},
     "output_type": "execute_result"
    }
   ],
   "source": [
    "function_3_1([1, 5, 3, 6, 5, 6, 3, 6], 4, 2) == 6"
   ]
  },
  {
   "cell_type": "markdown",
   "metadata": {},
   "source": [
    "#### Значение для формы"
   ]
  },
  {
   "cell_type": "code",
   "execution_count": 93,
   "metadata": {},
   "outputs": [
    {
     "name": "stdout",
     "output_type": "stream",
     "text": [
      "205778\n"
     ]
    }
   ],
   "source": [
    "import random\n",
    "\n",
    "random.seed(42)\n",
    "print(function_3_1([random.randint(0, 1000) for _ in range(10000)], 700, 300))"
   ]
  },
  {
   "cell_type": "markdown",
   "metadata": {},
   "source": [
    "## Задание 3.2\n",
    "\n",
    "Напишите списковое выражение, генерирующее все простые числа не больше заданного числа"
   ]
  },
  {
   "cell_type": "code",
   "execution_count": 94,
   "metadata": {},
   "outputs": [],
   "source": [
    "import math"
   ]
  },
  {
   "cell_type": "code",
   "execution_count": 95,
   "metadata": {},
   "outputs": [],
   "source": [
    "def get_div(a):\n",
    "    if (a < 2):\n",
    "        return 1\n",
    "    if (a == 2):\n",
    "        return 0\n",
    "    for i in range(2, math.ceil(math.sqrt(a)) + 1):\n",
    "        if (a % i == 0):\n",
    "            return 1\n",
    "    return 0"
   ]
  },
  {
   "cell_type": "code",
   "execution_count": 96,
   "metadata": {},
   "outputs": [],
   "source": [
    "def function_3_2(n):\n",
    "    return [x for x in range(n + 1) if (get_div(x) == 0)] # допишите код здесь"
   ]
  },
  {
   "cell_type": "code",
   "execution_count": 97,
   "metadata": {},
   "outputs": [
    {
     "data": {
      "text/plain": [
       "[2, 3, 5, 7]"
      ]
     },
     "execution_count": 97,
     "metadata": {},
     "output_type": "execute_result"
    }
   ],
   "source": [
    "function_3_2(10)"
   ]
  },
  {
   "cell_type": "code",
   "execution_count": 98,
   "metadata": {},
   "outputs": [
    {
     "data": {
      "text/plain": [
       "True"
      ]
     },
     "execution_count": 98,
     "metadata": {},
     "output_type": "execute_result"
    }
   ],
   "source": [
    "function_3_2(3) == [2, 3]"
   ]
  },
  {
   "cell_type": "code",
   "execution_count": 99,
   "metadata": {},
   "outputs": [
    {
     "data": {
      "text/plain": [
       "True"
      ]
     },
     "execution_count": 99,
     "metadata": {},
     "output_type": "execute_result"
    }
   ],
   "source": [
    "function_3_2(10) == [2, 3, 5, 7]"
   ]
  },
  {
   "cell_type": "code",
   "execution_count": 100,
   "metadata": {},
   "outputs": [
    {
     "data": {
      "text/plain": [
       "True"
      ]
     },
     "execution_count": 100,
     "metadata": {},
     "output_type": "execute_result"
    }
   ],
   "source": [
    "function_3_2(20) == [2, 3, 5, 7, 11, 13, 17, 19]"
   ]
  },
  {
   "cell_type": "markdown",
   "metadata": {},
   "source": [
    "#### Значение для формы"
   ]
  },
  {
   "cell_type": "code",
   "execution_count": 101,
   "metadata": {},
   "outputs": [
    {
     "name": "stdout",
     "output_type": "stream",
     "text": [
      "5736396\n"
     ]
    }
   ],
   "source": [
    "print(sum(function_3_2(10000)))"
   ]
  },
  {
   "cell_type": "markdown",
   "metadata": {},
   "source": [
    "# По хардкору"
   ]
  },
  {
   "cell_type": "markdown",
   "metadata": {},
   "source": [
    "## Задание 4.1\n",
    "\n",
    "Напишите функцию, которая по множеству, возвращает список всех его подмножеств"
   ]
  },
  {
   "cell_type": "code",
   "execution_count": 102,
   "metadata": {},
   "outputs": [],
   "source": [
    "from itertools import chain, combinations\n",
    "\n",
    "def function_4_1(my_set):\n",
    "    # note we return an iterator rather than a list\n",
    "    my_set = list(my_set)\n",
    "    print(my_set)\n",
    "    return list(map(set, chain.from_iterable(combinations(my_set, cur_subset) for cur_subset in range(len(my_set) + 1))))"
   ]
  },
  {
   "cell_type": "code",
   "execution_count": 103,
   "metadata": {},
   "outputs": [],
   "source": [
    "def check_4_1(my_set, function_res):\n",
    "    if len(function_res) != len(set(map(frozenset, function_res))):\n",
    "        return False\n",
    "    if len(function_res) != 2 ** len(my_set):\n",
    "        return False\n",
    "    return all(x <= my_set for x in function_res)"
   ]
  },
  {
   "cell_type": "code",
   "execution_count": 104,
   "metadata": {},
   "outputs": [
    {
     "name": "stdout",
     "output_type": "stream",
     "text": [
      "[0, 1, 2, 3, 4, 5, 6, 7, 8, 9]\n"
     ]
    },
    {
     "data": {
      "text/plain": [
       "[set(),\n",
       " {0},\n",
       " {1},\n",
       " {2},\n",
       " {3},\n",
       " {4},\n",
       " {5},\n",
       " {6},\n",
       " {7},\n",
       " {8},\n",
       " {9},\n",
       " {0, 1},\n",
       " {0, 2},\n",
       " {0, 3},\n",
       " {0, 4},\n",
       " {0, 5},\n",
       " {0, 6},\n",
       " {0, 7},\n",
       " {0, 8},\n",
       " {0, 9},\n",
       " {1, 2},\n",
       " {1, 3},\n",
       " {1, 4},\n",
       " {1, 5},\n",
       " {1, 6},\n",
       " {1, 7},\n",
       " {1, 8},\n",
       " {1, 9},\n",
       " {2, 3},\n",
       " {2, 4},\n",
       " {2, 5},\n",
       " {2, 6},\n",
       " {2, 7},\n",
       " {2, 8},\n",
       " {2, 9},\n",
       " {3, 4},\n",
       " {3, 5},\n",
       " {3, 6},\n",
       " {3, 7},\n",
       " {3, 8},\n",
       " {3, 9},\n",
       " {4, 5},\n",
       " {4, 6},\n",
       " {4, 7},\n",
       " {4, 8},\n",
       " {4, 9},\n",
       " {5, 6},\n",
       " {5, 7},\n",
       " {5, 8},\n",
       " {5, 9},\n",
       " {6, 7},\n",
       " {6, 8},\n",
       " {6, 9},\n",
       " {7, 8},\n",
       " {7, 9},\n",
       " {8, 9},\n",
       " {0, 1, 2},\n",
       " {0, 1, 3},\n",
       " {0, 1, 4},\n",
       " {0, 1, 5},\n",
       " {0, 1, 6},\n",
       " {0, 1, 7},\n",
       " {0, 1, 8},\n",
       " {0, 1, 9},\n",
       " {0, 2, 3},\n",
       " {0, 2, 4},\n",
       " {0, 2, 5},\n",
       " {0, 2, 6},\n",
       " {0, 2, 7},\n",
       " {0, 2, 8},\n",
       " {0, 2, 9},\n",
       " {0, 3, 4},\n",
       " {0, 3, 5},\n",
       " {0, 3, 6},\n",
       " {0, 3, 7},\n",
       " {0, 3, 8},\n",
       " {0, 3, 9},\n",
       " {0, 4, 5},\n",
       " {0, 4, 6},\n",
       " {0, 4, 7},\n",
       " {0, 4, 8},\n",
       " {0, 4, 9},\n",
       " {0, 5, 6},\n",
       " {0, 5, 7},\n",
       " {0, 5, 8},\n",
       " {0, 5, 9},\n",
       " {0, 6, 7},\n",
       " {0, 6, 8},\n",
       " {0, 6, 9},\n",
       " {0, 7, 8},\n",
       " {0, 7, 9},\n",
       " {0, 8, 9},\n",
       " {1, 2, 3},\n",
       " {1, 2, 4},\n",
       " {1, 2, 5},\n",
       " {1, 2, 6},\n",
       " {1, 2, 7},\n",
       " {1, 2, 8},\n",
       " {1, 2, 9},\n",
       " {1, 3, 4},\n",
       " {1, 3, 5},\n",
       " {1, 3, 6},\n",
       " {1, 3, 7},\n",
       " {1, 3, 8},\n",
       " {1, 3, 9},\n",
       " {1, 4, 5},\n",
       " {1, 4, 6},\n",
       " {1, 4, 7},\n",
       " {1, 4, 8},\n",
       " {1, 4, 9},\n",
       " {1, 5, 6},\n",
       " {1, 5, 7},\n",
       " {1, 5, 8},\n",
       " {1, 5, 9},\n",
       " {1, 6, 7},\n",
       " {1, 6, 8},\n",
       " {1, 6, 9},\n",
       " {1, 7, 8},\n",
       " {1, 7, 9},\n",
       " {1, 8, 9},\n",
       " {2, 3, 4},\n",
       " {2, 3, 5},\n",
       " {2, 3, 6},\n",
       " {2, 3, 7},\n",
       " {2, 3, 8},\n",
       " {2, 3, 9},\n",
       " {2, 4, 5},\n",
       " {2, 4, 6},\n",
       " {2, 4, 7},\n",
       " {2, 4, 8},\n",
       " {2, 4, 9},\n",
       " {2, 5, 6},\n",
       " {2, 5, 7},\n",
       " {2, 5, 8},\n",
       " {2, 5, 9},\n",
       " {2, 6, 7},\n",
       " {2, 6, 8},\n",
       " {2, 6, 9},\n",
       " {2, 7, 8},\n",
       " {2, 7, 9},\n",
       " {2, 8, 9},\n",
       " {3, 4, 5},\n",
       " {3, 4, 6},\n",
       " {3, 4, 7},\n",
       " {3, 4, 8},\n",
       " {3, 4, 9},\n",
       " {3, 5, 6},\n",
       " {3, 5, 7},\n",
       " {3, 5, 8},\n",
       " {3, 5, 9},\n",
       " {3, 6, 7},\n",
       " {3, 6, 8},\n",
       " {3, 6, 9},\n",
       " {3, 7, 8},\n",
       " {3, 7, 9},\n",
       " {3, 8, 9},\n",
       " {4, 5, 6},\n",
       " {4, 5, 7},\n",
       " {4, 5, 8},\n",
       " {4, 5, 9},\n",
       " {4, 6, 7},\n",
       " {4, 6, 8},\n",
       " {4, 6, 9},\n",
       " {4, 7, 8},\n",
       " {4, 7, 9},\n",
       " {4, 8, 9},\n",
       " {5, 6, 7},\n",
       " {5, 6, 8},\n",
       " {5, 6, 9},\n",
       " {5, 7, 8},\n",
       " {5, 7, 9},\n",
       " {5, 8, 9},\n",
       " {6, 7, 8},\n",
       " {6, 7, 9},\n",
       " {6, 8, 9},\n",
       " {7, 8, 9},\n",
       " {0, 1, 2, 3},\n",
       " {0, 1, 2, 4},\n",
       " {0, 1, 2, 5},\n",
       " {0, 1, 2, 6},\n",
       " {0, 1, 2, 7},\n",
       " {0, 1, 2, 8},\n",
       " {0, 1, 2, 9},\n",
       " {0, 1, 3, 4},\n",
       " {0, 1, 3, 5},\n",
       " {0, 1, 3, 6},\n",
       " {0, 1, 3, 7},\n",
       " {0, 1, 3, 8},\n",
       " {0, 1, 3, 9},\n",
       " {0, 1, 4, 5},\n",
       " {0, 1, 4, 6},\n",
       " {0, 1, 4, 7},\n",
       " {0, 1, 4, 8},\n",
       " {0, 1, 4, 9},\n",
       " {0, 1, 5, 6},\n",
       " {0, 1, 5, 7},\n",
       " {0, 1, 5, 8},\n",
       " {0, 1, 5, 9},\n",
       " {0, 1, 6, 7},\n",
       " {0, 1, 6, 8},\n",
       " {0, 1, 6, 9},\n",
       " {0, 1, 7, 8},\n",
       " {0, 1, 7, 9},\n",
       " {0, 1, 8, 9},\n",
       " {0, 2, 3, 4},\n",
       " {0, 2, 3, 5},\n",
       " {0, 2, 3, 6},\n",
       " {0, 2, 3, 7},\n",
       " {0, 2, 3, 8},\n",
       " {0, 2, 3, 9},\n",
       " {0, 2, 4, 5},\n",
       " {0, 2, 4, 6},\n",
       " {0, 2, 4, 7},\n",
       " {0, 2, 4, 8},\n",
       " {0, 2, 4, 9},\n",
       " {0, 2, 5, 6},\n",
       " {0, 2, 5, 7},\n",
       " {0, 2, 5, 8},\n",
       " {0, 2, 5, 9},\n",
       " {0, 2, 6, 7},\n",
       " {0, 2, 6, 8},\n",
       " {0, 2, 6, 9},\n",
       " {0, 2, 7, 8},\n",
       " {0, 2, 7, 9},\n",
       " {0, 2, 8, 9},\n",
       " {0, 3, 4, 5},\n",
       " {0, 3, 4, 6},\n",
       " {0, 3, 4, 7},\n",
       " {0, 3, 4, 8},\n",
       " {0, 3, 4, 9},\n",
       " {0, 3, 5, 6},\n",
       " {0, 3, 5, 7},\n",
       " {0, 3, 5, 8},\n",
       " {0, 3, 5, 9},\n",
       " {0, 3, 6, 7},\n",
       " {0, 3, 6, 8},\n",
       " {0, 3, 6, 9},\n",
       " {0, 3, 7, 8},\n",
       " {0, 3, 7, 9},\n",
       " {0, 3, 8, 9},\n",
       " {0, 4, 5, 6},\n",
       " {0, 4, 5, 7},\n",
       " {0, 4, 5, 8},\n",
       " {0, 4, 5, 9},\n",
       " {0, 4, 6, 7},\n",
       " {0, 4, 6, 8},\n",
       " {0, 4, 6, 9},\n",
       " {0, 4, 7, 8},\n",
       " {0, 4, 7, 9},\n",
       " {0, 4, 8, 9},\n",
       " {0, 5, 6, 7},\n",
       " {0, 5, 6, 8},\n",
       " {0, 5, 6, 9},\n",
       " {0, 5, 7, 8},\n",
       " {0, 5, 7, 9},\n",
       " {0, 5, 8, 9},\n",
       " {0, 6, 7, 8},\n",
       " {0, 6, 7, 9},\n",
       " {0, 6, 8, 9},\n",
       " {0, 7, 8, 9},\n",
       " {1, 2, 3, 4},\n",
       " {1, 2, 3, 5},\n",
       " {1, 2, 3, 6},\n",
       " {1, 2, 3, 7},\n",
       " {1, 2, 3, 8},\n",
       " {1, 2, 3, 9},\n",
       " {1, 2, 4, 5},\n",
       " {1, 2, 4, 6},\n",
       " {1, 2, 4, 7},\n",
       " {1, 2, 4, 8},\n",
       " {1, 2, 4, 9},\n",
       " {1, 2, 5, 6},\n",
       " {1, 2, 5, 7},\n",
       " {1, 2, 5, 8},\n",
       " {1, 2, 5, 9},\n",
       " {1, 2, 6, 7},\n",
       " {1, 2, 6, 8},\n",
       " {1, 2, 6, 9},\n",
       " {1, 2, 7, 8},\n",
       " {1, 2, 7, 9},\n",
       " {1, 2, 8, 9},\n",
       " {1, 3, 4, 5},\n",
       " {1, 3, 4, 6},\n",
       " {1, 3, 4, 7},\n",
       " {1, 3, 4, 8},\n",
       " {1, 3, 4, 9},\n",
       " {1, 3, 5, 6},\n",
       " {1, 3, 5, 7},\n",
       " {1, 3, 5, 8},\n",
       " {1, 3, 5, 9},\n",
       " {1, 3, 6, 7},\n",
       " {1, 3, 6, 8},\n",
       " {1, 3, 6, 9},\n",
       " {1, 3, 7, 8},\n",
       " {1, 3, 7, 9},\n",
       " {1, 3, 8, 9},\n",
       " {1, 4, 5, 6},\n",
       " {1, 4, 5, 7},\n",
       " {1, 4, 5, 8},\n",
       " {1, 4, 5, 9},\n",
       " {1, 4, 6, 7},\n",
       " {1, 4, 6, 8},\n",
       " {1, 4, 6, 9},\n",
       " {1, 4, 7, 8},\n",
       " {1, 4, 7, 9},\n",
       " {1, 4, 8, 9},\n",
       " {1, 5, 6, 7},\n",
       " {1, 5, 6, 8},\n",
       " {1, 5, 6, 9},\n",
       " {1, 5, 7, 8},\n",
       " {1, 5, 7, 9},\n",
       " {1, 5, 8, 9},\n",
       " {1, 6, 7, 8},\n",
       " {1, 6, 7, 9},\n",
       " {1, 6, 8, 9},\n",
       " {1, 7, 8, 9},\n",
       " {2, 3, 4, 5},\n",
       " {2, 3, 4, 6},\n",
       " {2, 3, 4, 7},\n",
       " {2, 3, 4, 8},\n",
       " {2, 3, 4, 9},\n",
       " {2, 3, 5, 6},\n",
       " {2, 3, 5, 7},\n",
       " {2, 3, 5, 8},\n",
       " {2, 3, 5, 9},\n",
       " {2, 3, 6, 7},\n",
       " {2, 3, 6, 8},\n",
       " {2, 3, 6, 9},\n",
       " {2, 3, 7, 8},\n",
       " {2, 3, 7, 9},\n",
       " {2, 3, 8, 9},\n",
       " {2, 4, 5, 6},\n",
       " {2, 4, 5, 7},\n",
       " {2, 4, 5, 8},\n",
       " {2, 4, 5, 9},\n",
       " {2, 4, 6, 7},\n",
       " {2, 4, 6, 8},\n",
       " {2, 4, 6, 9},\n",
       " {2, 4, 7, 8},\n",
       " {2, 4, 7, 9},\n",
       " {2, 4, 8, 9},\n",
       " {2, 5, 6, 7},\n",
       " {2, 5, 6, 8},\n",
       " {2, 5, 6, 9},\n",
       " {2, 5, 7, 8},\n",
       " {2, 5, 7, 9},\n",
       " {2, 5, 8, 9},\n",
       " {2, 6, 7, 8},\n",
       " {2, 6, 7, 9},\n",
       " {2, 6, 8, 9},\n",
       " {2, 7, 8, 9},\n",
       " {3, 4, 5, 6},\n",
       " {3, 4, 5, 7},\n",
       " {3, 4, 5, 8},\n",
       " {3, 4, 5, 9},\n",
       " {3, 4, 6, 7},\n",
       " {3, 4, 6, 8},\n",
       " {3, 4, 6, 9},\n",
       " {3, 4, 7, 8},\n",
       " {3, 4, 7, 9},\n",
       " {3, 4, 8, 9},\n",
       " {3, 5, 6, 7},\n",
       " {3, 5, 6, 8},\n",
       " {3, 5, 6, 9},\n",
       " {3, 5, 7, 8},\n",
       " {3, 5, 7, 9},\n",
       " {3, 5, 8, 9},\n",
       " {3, 6, 7, 8},\n",
       " {3, 6, 7, 9},\n",
       " {3, 6, 8, 9},\n",
       " {3, 7, 8, 9},\n",
       " {4, 5, 6, 7},\n",
       " {4, 5, 6, 8},\n",
       " {4, 5, 6, 9},\n",
       " {4, 5, 7, 8},\n",
       " {4, 5, 7, 9},\n",
       " {4, 5, 8, 9},\n",
       " {4, 6, 7, 8},\n",
       " {4, 6, 7, 9},\n",
       " {4, 6, 8, 9},\n",
       " {4, 7, 8, 9},\n",
       " {5, 6, 7, 8},\n",
       " {5, 6, 7, 9},\n",
       " {5, 6, 8, 9},\n",
       " {5, 7, 8, 9},\n",
       " {6, 7, 8, 9},\n",
       " {0, 1, 2, 3, 4},\n",
       " {0, 1, 2, 3, 5},\n",
       " {0, 1, 2, 3, 6},\n",
       " {0, 1, 2, 3, 7},\n",
       " {0, 1, 2, 3, 8},\n",
       " {0, 1, 2, 3, 9},\n",
       " {0, 1, 2, 4, 5},\n",
       " {0, 1, 2, 4, 6},\n",
       " {0, 1, 2, 4, 7},\n",
       " {0, 1, 2, 4, 8},\n",
       " {0, 1, 2, 4, 9},\n",
       " {0, 1, 2, 5, 6},\n",
       " {0, 1, 2, 5, 7},\n",
       " {0, 1, 2, 5, 8},\n",
       " {0, 1, 2, 5, 9},\n",
       " {0, 1, 2, 6, 7},\n",
       " {0, 1, 2, 6, 8},\n",
       " {0, 1, 2, 6, 9},\n",
       " {0, 1, 2, 7, 8},\n",
       " {0, 1, 2, 7, 9},\n",
       " {0, 1, 2, 8, 9},\n",
       " {0, 1, 3, 4, 5},\n",
       " {0, 1, 3, 4, 6},\n",
       " {0, 1, 3, 4, 7},\n",
       " {0, 1, 3, 4, 8},\n",
       " {0, 1, 3, 4, 9},\n",
       " {0, 1, 3, 5, 6},\n",
       " {0, 1, 3, 5, 7},\n",
       " {0, 1, 3, 5, 8},\n",
       " {0, 1, 3, 5, 9},\n",
       " {0, 1, 3, 6, 7},\n",
       " {0, 1, 3, 6, 8},\n",
       " {0, 1, 3, 6, 9},\n",
       " {0, 1, 3, 7, 8},\n",
       " {0, 1, 3, 7, 9},\n",
       " {0, 1, 3, 8, 9},\n",
       " {0, 1, 4, 5, 6},\n",
       " {0, 1, 4, 5, 7},\n",
       " {0, 1, 4, 5, 8},\n",
       " {0, 1, 4, 5, 9},\n",
       " {0, 1, 4, 6, 7},\n",
       " {0, 1, 4, 6, 8},\n",
       " {0, 1, 4, 6, 9},\n",
       " {0, 1, 4, 7, 8},\n",
       " {0, 1, 4, 7, 9},\n",
       " {0, 1, 4, 8, 9},\n",
       " {0, 1, 5, 6, 7},\n",
       " {0, 1, 5, 6, 8},\n",
       " {0, 1, 5, 6, 9},\n",
       " {0, 1, 5, 7, 8},\n",
       " {0, 1, 5, 7, 9},\n",
       " {0, 1, 5, 8, 9},\n",
       " {0, 1, 6, 7, 8},\n",
       " {0, 1, 6, 7, 9},\n",
       " {0, 1, 6, 8, 9},\n",
       " {0, 1, 7, 8, 9},\n",
       " {0, 2, 3, 4, 5},\n",
       " {0, 2, 3, 4, 6},\n",
       " {0, 2, 3, 4, 7},\n",
       " {0, 2, 3, 4, 8},\n",
       " {0, 2, 3, 4, 9},\n",
       " {0, 2, 3, 5, 6},\n",
       " {0, 2, 3, 5, 7},\n",
       " {0, 2, 3, 5, 8},\n",
       " {0, 2, 3, 5, 9},\n",
       " {0, 2, 3, 6, 7},\n",
       " {0, 2, 3, 6, 8},\n",
       " {0, 2, 3, 6, 9},\n",
       " {0, 2, 3, 7, 8},\n",
       " {0, 2, 3, 7, 9},\n",
       " {0, 2, 3, 8, 9},\n",
       " {0, 2, 4, 5, 6},\n",
       " {0, 2, 4, 5, 7},\n",
       " {0, 2, 4, 5, 8},\n",
       " {0, 2, 4, 5, 9},\n",
       " {0, 2, 4, 6, 7},\n",
       " {0, 2, 4, 6, 8},\n",
       " {0, 2, 4, 6, 9},\n",
       " {0, 2, 4, 7, 8},\n",
       " {0, 2, 4, 7, 9},\n",
       " {0, 2, 4, 8, 9},\n",
       " {0, 2, 5, 6, 7},\n",
       " {0, 2, 5, 6, 8},\n",
       " {0, 2, 5, 6, 9},\n",
       " {0, 2, 5, 7, 8},\n",
       " {0, 2, 5, 7, 9},\n",
       " {0, 2, 5, 8, 9},\n",
       " {0, 2, 6, 7, 8},\n",
       " {0, 2, 6, 7, 9},\n",
       " {0, 2, 6, 8, 9},\n",
       " {0, 2, 7, 8, 9},\n",
       " {0, 3, 4, 5, 6},\n",
       " {0, 3, 4, 5, 7},\n",
       " {0, 3, 4, 5, 8},\n",
       " {0, 3, 4, 5, 9},\n",
       " {0, 3, 4, 6, 7},\n",
       " {0, 3, 4, 6, 8},\n",
       " {0, 3, 4, 6, 9},\n",
       " {0, 3, 4, 7, 8},\n",
       " {0, 3, 4, 7, 9},\n",
       " {0, 3, 4, 8, 9},\n",
       " {0, 3, 5, 6, 7},\n",
       " {0, 3, 5, 6, 8},\n",
       " {0, 3, 5, 6, 9},\n",
       " {0, 3, 5, 7, 8},\n",
       " {0, 3, 5, 7, 9},\n",
       " {0, 3, 5, 8, 9},\n",
       " {0, 3, 6, 7, 8},\n",
       " {0, 3, 6, 7, 9},\n",
       " {0, 3, 6, 8, 9},\n",
       " {0, 3, 7, 8, 9},\n",
       " {0, 4, 5, 6, 7},\n",
       " {0, 4, 5, 6, 8},\n",
       " {0, 4, 5, 6, 9},\n",
       " {0, 4, 5, 7, 8},\n",
       " {0, 4, 5, 7, 9},\n",
       " {0, 4, 5, 8, 9},\n",
       " {0, 4, 6, 7, 8},\n",
       " {0, 4, 6, 7, 9},\n",
       " {0, 4, 6, 8, 9},\n",
       " {0, 4, 7, 8, 9},\n",
       " {0, 5, 6, 7, 8},\n",
       " {0, 5, 6, 7, 9},\n",
       " {0, 5, 6, 8, 9},\n",
       " {0, 5, 7, 8, 9},\n",
       " {0, 6, 7, 8, 9},\n",
       " {1, 2, 3, 4, 5},\n",
       " {1, 2, 3, 4, 6},\n",
       " {1, 2, 3, 4, 7},\n",
       " {1, 2, 3, 4, 8},\n",
       " {1, 2, 3, 4, 9},\n",
       " {1, 2, 3, 5, 6},\n",
       " {1, 2, 3, 5, 7},\n",
       " {1, 2, 3, 5, 8},\n",
       " {1, 2, 3, 5, 9},\n",
       " {1, 2, 3, 6, 7},\n",
       " {1, 2, 3, 6, 8},\n",
       " {1, 2, 3, 6, 9},\n",
       " {1, 2, 3, 7, 8},\n",
       " {1, 2, 3, 7, 9},\n",
       " {1, 2, 3, 8, 9},\n",
       " {1, 2, 4, 5, 6},\n",
       " {1, 2, 4, 5, 7},\n",
       " {1, 2, 4, 5, 8},\n",
       " {1, 2, 4, 5, 9},\n",
       " {1, 2, 4, 6, 7},\n",
       " {1, 2, 4, 6, 8},\n",
       " {1, 2, 4, 6, 9},\n",
       " {1, 2, 4, 7, 8},\n",
       " {1, 2, 4, 7, 9},\n",
       " {1, 2, 4, 8, 9},\n",
       " {1, 2, 5, 6, 7},\n",
       " {1, 2, 5, 6, 8},\n",
       " {1, 2, 5, 6, 9},\n",
       " {1, 2, 5, 7, 8},\n",
       " {1, 2, 5, 7, 9},\n",
       " {1, 2, 5, 8, 9},\n",
       " {1, 2, 6, 7, 8},\n",
       " {1, 2, 6, 7, 9},\n",
       " {1, 2, 6, 8, 9},\n",
       " {1, 2, 7, 8, 9},\n",
       " {1, 3, 4, 5, 6},\n",
       " {1, 3, 4, 5, 7},\n",
       " {1, 3, 4, 5, 8},\n",
       " {1, 3, 4, 5, 9},\n",
       " {1, 3, 4, 6, 7},\n",
       " {1, 3, 4, 6, 8},\n",
       " {1, 3, 4, 6, 9},\n",
       " {1, 3, 4, 7, 8},\n",
       " {1, 3, 4, 7, 9},\n",
       " {1, 3, 4, 8, 9},\n",
       " {1, 3, 5, 6, 7},\n",
       " {1, 3, 5, 6, 8},\n",
       " {1, 3, 5, 6, 9},\n",
       " {1, 3, 5, 7, 8},\n",
       " {1, 3, 5, 7, 9},\n",
       " {1, 3, 5, 8, 9},\n",
       " {1, 3, 6, 7, 8},\n",
       " {1, 3, 6, 7, 9},\n",
       " {1, 3, 6, 8, 9},\n",
       " {1, 3, 7, 8, 9},\n",
       " {1, 4, 5, 6, 7},\n",
       " {1, 4, 5, 6, 8},\n",
       " {1, 4, 5, 6, 9},\n",
       " {1, 4, 5, 7, 8},\n",
       " {1, 4, 5, 7, 9},\n",
       " {1, 4, 5, 8, 9},\n",
       " {1, 4, 6, 7, 8},\n",
       " {1, 4, 6, 7, 9},\n",
       " {1, 4, 6, 8, 9},\n",
       " {1, 4, 7, 8, 9},\n",
       " {1, 5, 6, 7, 8},\n",
       " {1, 5, 6, 7, 9},\n",
       " {1, 5, 6, 8, 9},\n",
       " {1, 5, 7, 8, 9},\n",
       " {1, 6, 7, 8, 9},\n",
       " {2, 3, 4, 5, 6},\n",
       " {2, 3, 4, 5, 7},\n",
       " {2, 3, 4, 5, 8},\n",
       " {2, 3, 4, 5, 9},\n",
       " {2, 3, 4, 6, 7},\n",
       " {2, 3, 4, 6, 8},\n",
       " {2, 3, 4, 6, 9},\n",
       " {2, 3, 4, 7, 8},\n",
       " {2, 3, 4, 7, 9},\n",
       " {2, 3, 4, 8, 9},\n",
       " {2, 3, 5, 6, 7},\n",
       " {2, 3, 5, 6, 8},\n",
       " {2, 3, 5, 6, 9},\n",
       " {2, 3, 5, 7, 8},\n",
       " {2, 3, 5, 7, 9},\n",
       " {2, 3, 5, 8, 9},\n",
       " {2, 3, 6, 7, 8},\n",
       " {2, 3, 6, 7, 9},\n",
       " {2, 3, 6, 8, 9},\n",
       " {2, 3, 7, 8, 9},\n",
       " {2, 4, 5, 6, 7},\n",
       " {2, 4, 5, 6, 8},\n",
       " {2, 4, 5, 6, 9},\n",
       " {2, 4, 5, 7, 8},\n",
       " {2, 4, 5, 7, 9},\n",
       " {2, 4, 5, 8, 9},\n",
       " {2, 4, 6, 7, 8},\n",
       " {2, 4, 6, 7, 9},\n",
       " {2, 4, 6, 8, 9},\n",
       " {2, 4, 7, 8, 9},\n",
       " {2, 5, 6, 7, 8},\n",
       " {2, 5, 6, 7, 9},\n",
       " {2, 5, 6, 8, 9},\n",
       " {2, 5, 7, 8, 9},\n",
       " {2, 6, 7, 8, 9},\n",
       " {3, 4, 5, 6, 7},\n",
       " {3, 4, 5, 6, 8},\n",
       " {3, 4, 5, 6, 9},\n",
       " {3, 4, 5, 7, 8},\n",
       " {3, 4, 5, 7, 9},\n",
       " {3, 4, 5, 8, 9},\n",
       " {3, 4, 6, 7, 8},\n",
       " {3, 4, 6, 7, 9},\n",
       " {3, 4, 6, 8, 9},\n",
       " {3, 4, 7, 8, 9},\n",
       " {3, 5, 6, 7, 8},\n",
       " {3, 5, 6, 7, 9},\n",
       " {3, 5, 6, 8, 9},\n",
       " {3, 5, 7, 8, 9},\n",
       " {3, 6, 7, 8, 9},\n",
       " {4, 5, 6, 7, 8},\n",
       " {4, 5, 6, 7, 9},\n",
       " {4, 5, 6, 8, 9},\n",
       " {4, 5, 7, 8, 9},\n",
       " {4, 6, 7, 8, 9},\n",
       " {5, 6, 7, 8, 9},\n",
       " {0, 1, 2, 3, 4, 5},\n",
       " {0, 1, 2, 3, 4, 6},\n",
       " {0, 1, 2, 3, 4, 7},\n",
       " {0, 1, 2, 3, 4, 8},\n",
       " {0, 1, 2, 3, 4, 9},\n",
       " {0, 1, 2, 3, 5, 6},\n",
       " {0, 1, 2, 3, 5, 7},\n",
       " {0, 1, 2, 3, 5, 8},\n",
       " {0, 1, 2, 3, 5, 9},\n",
       " {0, 1, 2, 3, 6, 7},\n",
       " {0, 1, 2, 3, 6, 8},\n",
       " {0, 1, 2, 3, 6, 9},\n",
       " {0, 1, 2, 3, 7, 8},\n",
       " {0, 1, 2, 3, 7, 9},\n",
       " {0, 1, 2, 3, 8, 9},\n",
       " {0, 1, 2, 4, 5, 6},\n",
       " {0, 1, 2, 4, 5, 7},\n",
       " {0, 1, 2, 4, 5, 8},\n",
       " {0, 1, 2, 4, 5, 9},\n",
       " {0, 1, 2, 4, 6, 7},\n",
       " {0, 1, 2, 4, 6, 8},\n",
       " {0, 1, 2, 4, 6, 9},\n",
       " {0, 1, 2, 4, 7, 8},\n",
       " {0, 1, 2, 4, 7, 9},\n",
       " {0, 1, 2, 4, 8, 9},\n",
       " {0, 1, 2, 5, 6, 7},\n",
       " {0, 1, 2, 5, 6, 8},\n",
       " {0, 1, 2, 5, 6, 9},\n",
       " {0, 1, 2, 5, 7, 8},\n",
       " {0, 1, 2, 5, 7, 9},\n",
       " {0, 1, 2, 5, 8, 9},\n",
       " {0, 1, 2, 6, 7, 8},\n",
       " {0, 1, 2, 6, 7, 9},\n",
       " {0, 1, 2, 6, 8, 9},\n",
       " {0, 1, 2, 7, 8, 9},\n",
       " {0, 1, 3, 4, 5, 6},\n",
       " {0, 1, 3, 4, 5, 7},\n",
       " {0, 1, 3, 4, 5, 8},\n",
       " {0, 1, 3, 4, 5, 9},\n",
       " {0, 1, 3, 4, 6, 7},\n",
       " {0, 1, 3, 4, 6, 8},\n",
       " {0, 1, 3, 4, 6, 9},\n",
       " {0, 1, 3, 4, 7, 8},\n",
       " {0, 1, 3, 4, 7, 9},\n",
       " {0, 1, 3, 4, 8, 9},\n",
       " {0, 1, 3, 5, 6, 7},\n",
       " {0, 1, 3, 5, 6, 8},\n",
       " {0, 1, 3, 5, 6, 9},\n",
       " {0, 1, 3, 5, 7, 8},\n",
       " {0, 1, 3, 5, 7, 9},\n",
       " {0, 1, 3, 5, 8, 9},\n",
       " {0, 1, 3, 6, 7, 8},\n",
       " {0, 1, 3, 6, 7, 9},\n",
       " {0, 1, 3, 6, 8, 9},\n",
       " {0, 1, 3, 7, 8, 9},\n",
       " {0, 1, 4, 5, 6, 7},\n",
       " {0, 1, 4, 5, 6, 8},\n",
       " {0, 1, 4, 5, 6, 9},\n",
       " {0, 1, 4, 5, 7, 8},\n",
       " {0, 1, 4, 5, 7, 9},\n",
       " {0, 1, 4, 5, 8, 9},\n",
       " {0, 1, 4, 6, 7, 8},\n",
       " {0, 1, 4, 6, 7, 9},\n",
       " {0, 1, 4, 6, 8, 9},\n",
       " {0, 1, 4, 7, 8, 9},\n",
       " {0, 1, 5, 6, 7, 8},\n",
       " {0, 1, 5, 6, 7, 9},\n",
       " {0, 1, 5, 6, 8, 9},\n",
       " {0, 1, 5, 7, 8, 9},\n",
       " {0, 1, 6, 7, 8, 9},\n",
       " {0, 2, 3, 4, 5, 6},\n",
       " {0, 2, 3, 4, 5, 7},\n",
       " {0, 2, 3, 4, 5, 8},\n",
       " {0, 2, 3, 4, 5, 9},\n",
       " {0, 2, 3, 4, 6, 7},\n",
       " {0, 2, 3, 4, 6, 8},\n",
       " {0, 2, 3, 4, 6, 9},\n",
       " {0, 2, 3, 4, 7, 8},\n",
       " {0, 2, 3, 4, 7, 9},\n",
       " {0, 2, 3, 4, 8, 9},\n",
       " {0, 2, 3, 5, 6, 7},\n",
       " {0, 2, 3, 5, 6, 8},\n",
       " {0, 2, 3, 5, 6, 9},\n",
       " {0, 2, 3, 5, 7, 8},\n",
       " {0, 2, 3, 5, 7, 9},\n",
       " {0, 2, 3, 5, 8, 9},\n",
       " {0, 2, 3, 6, 7, 8},\n",
       " {0, 2, 3, 6, 7, 9},\n",
       " {0, 2, 3, 6, 8, 9},\n",
       " {0, 2, 3, 7, 8, 9},\n",
       " {0, 2, 4, 5, 6, 7},\n",
       " {0, 2, 4, 5, 6, 8},\n",
       " {0, 2, 4, 5, 6, 9},\n",
       " {0, 2, 4, 5, 7, 8},\n",
       " {0, 2, 4, 5, 7, 9},\n",
       " {0, 2, 4, 5, 8, 9},\n",
       " {0, 2, 4, 6, 7, 8},\n",
       " {0, 2, 4, 6, 7, 9},\n",
       " {0, 2, 4, 6, 8, 9},\n",
       " {0, 2, 4, 7, 8, 9},\n",
       " {0, 2, 5, 6, 7, 8},\n",
       " {0, 2, 5, 6, 7, 9},\n",
       " {0, 2, 5, 6, 8, 9},\n",
       " {0, 2, 5, 7, 8, 9},\n",
       " {0, 2, 6, 7, 8, 9},\n",
       " {0, 3, 4, 5, 6, 7},\n",
       " {0, 3, 4, 5, 6, 8},\n",
       " {0, 3, 4, 5, 6, 9},\n",
       " {0, 3, 4, 5, 7, 8},\n",
       " {0, 3, 4, 5, 7, 9},\n",
       " {0, 3, 4, 5, 8, 9},\n",
       " {0, 3, 4, 6, 7, 8},\n",
       " {0, 3, 4, 6, 7, 9},\n",
       " {0, 3, 4, 6, 8, 9},\n",
       " {0, 3, 4, 7, 8, 9},\n",
       " {0, 3, 5, 6, 7, 8},\n",
       " {0, 3, 5, 6, 7, 9},\n",
       " {0, 3, 5, 6, 8, 9},\n",
       " {0, 3, 5, 7, 8, 9},\n",
       " {0, 3, 6, 7, 8, 9},\n",
       " {0, 4, 5, 6, 7, 8},\n",
       " {0, 4, 5, 6, 7, 9},\n",
       " {0, 4, 5, 6, 8, 9},\n",
       " {0, 4, 5, 7, 8, 9},\n",
       " {0, 4, 6, 7, 8, 9},\n",
       " {0, 5, 6, 7, 8, 9},\n",
       " {1, 2, 3, 4, 5, 6},\n",
       " {1, 2, 3, 4, 5, 7},\n",
       " {1, 2, 3, 4, 5, 8},\n",
       " {1, 2, 3, 4, 5, 9},\n",
       " {1, 2, 3, 4, 6, 7},\n",
       " {1, 2, 3, 4, 6, 8},\n",
       " {1, 2, 3, 4, 6, 9},\n",
       " {1, 2, 3, 4, 7, 8},\n",
       " {1, 2, 3, 4, 7, 9},\n",
       " {1, 2, 3, 4, 8, 9},\n",
       " {1, 2, 3, 5, 6, 7},\n",
       " {1, 2, 3, 5, 6, 8},\n",
       " {1, 2, 3, 5, 6, 9},\n",
       " {1, 2, 3, 5, 7, 8},\n",
       " {1, 2, 3, 5, 7, 9},\n",
       " {1, 2, 3, 5, 8, 9},\n",
       " {1, 2, 3, 6, 7, 8},\n",
       " {1, 2, 3, 6, 7, 9},\n",
       " {1, 2, 3, 6, 8, 9},\n",
       " {1, 2, 3, 7, 8, 9},\n",
       " {1, 2, 4, 5, 6, 7},\n",
       " {1, 2, 4, 5, 6, 8},\n",
       " {1, 2, 4, 5, 6, 9},\n",
       " {1, 2, 4, 5, 7, 8},\n",
       " {1, 2, 4, 5, 7, 9},\n",
       " {1, 2, 4, 5, 8, 9},\n",
       " {1, 2, 4, 6, 7, 8},\n",
       " {1, 2, 4, 6, 7, 9},\n",
       " {1, 2, 4, 6, 8, 9},\n",
       " {1, 2, 4, 7, 8, 9},\n",
       " {1, 2, 5, 6, 7, 8},\n",
       " {1, 2, 5, 6, 7, 9},\n",
       " {1, 2, 5, 6, 8, 9},\n",
       " {1, 2, 5, 7, 8, 9},\n",
       " {1, 2, 6, 7, 8, 9},\n",
       " {1, 3, 4, 5, 6, 7},\n",
       " {1, 3, 4, 5, 6, 8},\n",
       " {1, 3, 4, 5, 6, 9},\n",
       " {1, 3, 4, 5, 7, 8},\n",
       " {1, 3, 4, 5, 7, 9},\n",
       " {1, 3, 4, 5, 8, 9},\n",
       " {1, 3, 4, 6, 7, 8},\n",
       " {1, 3, 4, 6, 7, 9},\n",
       " {1, 3, 4, 6, 8, 9},\n",
       " {1, 3, 4, 7, 8, 9},\n",
       " {1, 3, 5, 6, 7, 8},\n",
       " {1, 3, 5, 6, 7, 9},\n",
       " {1, 3, 5, 6, 8, 9},\n",
       " {1, 3, 5, 7, 8, 9},\n",
       " {1, 3, 6, 7, 8, 9},\n",
       " {1, 4, 5, 6, 7, 8},\n",
       " {1, 4, 5, 6, 7, 9},\n",
       " {1, 4, 5, 6, 8, 9},\n",
       " {1, 4, 5, 7, 8, 9},\n",
       " {1, 4, 6, 7, 8, 9},\n",
       " {1, 5, 6, 7, 8, 9},\n",
       " {2, 3, 4, 5, 6, 7},\n",
       " {2, 3, 4, 5, 6, 8},\n",
       " {2, 3, 4, 5, 6, 9},\n",
       " {2, 3, 4, 5, 7, 8},\n",
       " {2, 3, 4, 5, 7, 9},\n",
       " {2, 3, 4, 5, 8, 9},\n",
       " {2, 3, 4, 6, 7, 8},\n",
       " {2, 3, 4, 6, 7, 9},\n",
       " {2, 3, 4, 6, 8, 9},\n",
       " {2, 3, 4, 7, 8, 9},\n",
       " {2, 3, 5, 6, 7, 8},\n",
       " {2, 3, 5, 6, 7, 9},\n",
       " {2, 3, 5, 6, 8, 9},\n",
       " {2, 3, 5, 7, 8, 9},\n",
       " {2, 3, 6, 7, 8, 9},\n",
       " {2, 4, 5, 6, 7, 8},\n",
       " {2, 4, 5, 6, 7, 9},\n",
       " {2, 4, 5, 6, 8, 9},\n",
       " {2, 4, 5, 7, 8, 9},\n",
       " {2, 4, 6, 7, 8, 9},\n",
       " {2, 5, 6, 7, 8, 9},\n",
       " {3, 4, 5, 6, 7, 8},\n",
       " {3, 4, 5, 6, 7, 9},\n",
       " {3, 4, 5, 6, 8, 9},\n",
       " {3, 4, 5, 7, 8, 9},\n",
       " {3, 4, 6, 7, 8, 9},\n",
       " {3, 5, 6, 7, 8, 9},\n",
       " {4, 5, 6, 7, 8, 9},\n",
       " {0, 1, 2, 3, 4, 5, 6},\n",
       " {0, 1, 2, 3, 4, 5, 7},\n",
       " {0, 1, 2, 3, 4, 5, 8},\n",
       " {0, 1, 2, 3, 4, 5, 9},\n",
       " {0, 1, 2, 3, 4, 6, 7},\n",
       " {0, 1, 2, 3, 4, 6, 8},\n",
       " {0, 1, 2, 3, 4, 6, 9},\n",
       " {0, 1, 2, 3, 4, 7, 8},\n",
       " {0, 1, 2, 3, 4, 7, 9},\n",
       " {0, 1, 2, 3, 4, 8, 9},\n",
       " {0, 1, 2, 3, 5, 6, 7},\n",
       " {0, 1, 2, 3, 5, 6, 8},\n",
       " {0, 1, 2, 3, 5, 6, 9},\n",
       " {0, 1, 2, 3, 5, 7, 8},\n",
       " {0, 1, 2, 3, 5, 7, 9},\n",
       " {0, 1, 2, 3, 5, 8, 9},\n",
       " {0, 1, 2, 3, 6, 7, 8},\n",
       " {0, 1, 2, 3, 6, 7, 9},\n",
       " {0, 1, 2, 3, 6, 8, 9},\n",
       " {0, 1, 2, 3, 7, 8, 9},\n",
       " {0, 1, 2, 4, 5, 6, 7},\n",
       " {0, 1, 2, 4, 5, 6, 8},\n",
       " {0, 1, 2, 4, 5, 6, 9},\n",
       " {0, 1, 2, 4, 5, 7, 8},\n",
       " {0, 1, 2, 4, 5, 7, 9},\n",
       " {0, 1, 2, 4, 5, 8, 9},\n",
       " {0, 1, 2, 4, 6, 7, 8},\n",
       " {0, 1, 2, 4, 6, 7, 9},\n",
       " {0, 1, 2, 4, 6, 8, 9},\n",
       " {0, 1, 2, 4, 7, 8, 9},\n",
       " {0, 1, 2, 5, 6, 7, 8},\n",
       " {0, 1, 2, 5, 6, 7, 9},\n",
       " {0, 1, 2, 5, 6, 8, 9},\n",
       " {0, 1, 2, 5, 7, 8, 9},\n",
       " {0, 1, 2, 6, 7, 8, 9},\n",
       " {0, 1, 3, 4, 5, 6, 7},\n",
       " {0, 1, 3, 4, 5, 6, 8},\n",
       " {0, 1, 3, 4, 5, 6, 9},\n",
       " {0, 1, 3, 4, 5, 7, 8},\n",
       " {0, 1, 3, 4, 5, 7, 9},\n",
       " {0, 1, 3, 4, 5, 8, 9},\n",
       " {0, 1, 3, 4, 6, 7, 8},\n",
       " {0, 1, 3, 4, 6, 7, 9},\n",
       " {0, 1, 3, 4, 6, 8, 9},\n",
       " {0, 1, 3, 4, 7, 8, 9},\n",
       " {0, 1, 3, 5, 6, 7, 8},\n",
       " {0, 1, 3, 5, 6, 7, 9},\n",
       " {0, 1, 3, 5, 6, 8, 9},\n",
       " {0, 1, 3, 5, 7, 8, 9},\n",
       " {0, 1, 3, 6, 7, 8, 9},\n",
       " {0, 1, 4, 5, 6, 7, 8},\n",
       " {0, 1, 4, 5, 6, 7, 9},\n",
       " {0, 1, 4, 5, 6, 8, 9},\n",
       " {0, 1, 4, 5, 7, 8, 9},\n",
       " {0, 1, 4, 6, 7, 8, 9},\n",
       " {0, 1, 5, 6, 7, 8, 9},\n",
       " {0, 2, 3, 4, 5, 6, 7},\n",
       " {0, 2, 3, 4, 5, 6, 8},\n",
       " {0, 2, 3, 4, 5, 6, 9},\n",
       " {0, 2, 3, 4, 5, 7, 8},\n",
       " {0, 2, 3, 4, 5, 7, 9},\n",
       " {0, 2, 3, 4, 5, 8, 9},\n",
       " {0, 2, 3, 4, 6, 7, 8},\n",
       " {0, 2, 3, 4, 6, 7, 9},\n",
       " {0, 2, 3, 4, 6, 8, 9},\n",
       " {0, 2, 3, 4, 7, 8, 9},\n",
       " {0, 2, 3, 5, 6, 7, 8},\n",
       " {0, 2, 3, 5, 6, 7, 9},\n",
       " {0, 2, 3, 5, 6, 8, 9},\n",
       " {0, 2, 3, 5, 7, 8, 9},\n",
       " {0, 2, 3, 6, 7, 8, 9},\n",
       " {0, 2, 4, 5, 6, 7, 8},\n",
       " {0, 2, 4, 5, 6, 7, 9},\n",
       " {0, 2, 4, 5, 6, 8, 9},\n",
       " {0, 2, 4, 5, 7, 8, 9},\n",
       " {0, 2, 4, 6, 7, 8, 9},\n",
       " {0, 2, 5, 6, 7, 8, 9},\n",
       " {0, 3, 4, 5, 6, 7, 8},\n",
       " {0, 3, 4, 5, 6, 7, 9},\n",
       " {0, 3, 4, 5, 6, 8, 9},\n",
       " {0, 3, 4, 5, 7, 8, 9},\n",
       " {0, 3, 4, 6, 7, 8, 9},\n",
       " {0, 3, 5, 6, 7, 8, 9},\n",
       " {0, 4, 5, 6, 7, 8, 9},\n",
       " {1, 2, 3, 4, 5, 6, 7},\n",
       " {1, 2, 3, 4, 5, 6, 8},\n",
       " {1, 2, 3, 4, 5, 6, 9},\n",
       " {1, 2, 3, 4, 5, 7, 8},\n",
       " {1, 2, 3, 4, 5, 7, 9},\n",
       " {1, 2, 3, 4, 5, 8, 9},\n",
       " {1, 2, 3, 4, 6, 7, 8},\n",
       " {1, 2, 3, 4, 6, 7, 9},\n",
       " {1, 2, 3, 4, 6, 8, 9},\n",
       " {1, 2, 3, 4, 7, 8, 9},\n",
       " {1, 2, 3, 5, 6, 7, 8},\n",
       " {1, 2, 3, 5, 6, 7, 9},\n",
       " {1, 2, 3, 5, 6, 8, 9},\n",
       " {1, 2, 3, 5, 7, 8, 9},\n",
       " {1, 2, 3, 6, 7, 8, 9},\n",
       " {1, 2, 4, 5, 6, 7, 8},\n",
       " {1, 2, 4, 5, 6, 7, 9},\n",
       " {1, 2, 4, 5, 6, 8, 9},\n",
       " {1, 2, 4, 5, 7, 8, 9},\n",
       " {1, 2, 4, 6, 7, 8, 9},\n",
       " {1, 2, 5, 6, 7, 8, 9},\n",
       " {1, 3, 4, 5, 6, 7, 8},\n",
       " {1, 3, 4, 5, 6, 7, 9},\n",
       " {1, 3, 4, 5, 6, 8, 9},\n",
       " {1, 3, 4, 5, 7, 8, 9},\n",
       " {1, 3, 4, 6, 7, 8, 9},\n",
       " {1, 3, 5, 6, 7, 8, 9},\n",
       " {1, 4, 5, 6, 7, 8, 9},\n",
       " {2, 3, 4, 5, 6, 7, 8},\n",
       " {2, 3, 4, 5, 6, 7, 9},\n",
       " {2, 3, 4, 5, 6, 8, 9},\n",
       " {2, 3, 4, 5, 7, 8, 9},\n",
       " {2, 3, 4, 6, 7, 8, 9},\n",
       " {2, 3, 5, 6, 7, 8, 9},\n",
       " {2, 4, 5, 6, 7, 8, 9},\n",
       " {3, 4, 5, 6, 7, 8, 9},\n",
       " {0, 1, 2, 3, 4, 5, 6, 7},\n",
       " {0, 1, 2, 3, 4, 5, 6, 8},\n",
       " {0, 1, 2, 3, 4, 5, 6, 9},\n",
       " {0, 1, 2, 3, 4, 5, 7, 8},\n",
       " {0, 1, 2, 3, 4, 5, 7, 9},\n",
       " {0, 1, 2, 3, 4, 5, 8, 9},\n",
       " {0, 1, 2, 3, 4, 6, 7, 8},\n",
       " {0, 1, 2, 3, 4, 6, 7, 9},\n",
       " {0, 1, 2, 3, 4, 6, 8, 9},\n",
       " {0, 1, 2, 3, 4, 7, 8, 9},\n",
       " {0, 1, 2, 3, 5, 6, 7, 8},\n",
       " {0, 1, 2, 3, 5, 6, 7, 9},\n",
       " {0, 1, 2, 3, 5, 6, 8, 9},\n",
       " {0, 1, 2, 3, 5, 7, 8, 9},\n",
       " {0, 1, 2, 3, 6, 7, 8, 9},\n",
       " {0, 1, 2, 4, 5, 6, 7, 8},\n",
       " {0, 1, 2, 4, 5, 6, 7, 9},\n",
       " {0, 1, 2, 4, 5, 6, 8, 9},\n",
       " {0, 1, 2, 4, 5, 7, 8, 9},\n",
       " {0, 1, 2, 4, 6, 7, 8, 9},\n",
       " {0, 1, 2, 5, 6, 7, 8, 9},\n",
       " {0, 1, 3, 4, 5, 6, 7, 8},\n",
       " {0, 1, 3, 4, 5, 6, 7, 9},\n",
       " {0, 1, 3, 4, 5, 6, 8, 9},\n",
       " {0, 1, 3, 4, 5, 7, 8, 9},\n",
       " {0, 1, 3, 4, 6, 7, 8, 9},\n",
       " {0, 1, 3, 5, 6, 7, 8, 9},\n",
       " {0, 1, 4, 5, 6, 7, 8, 9},\n",
       " {0, 2, 3, 4, 5, 6, 7, 8},\n",
       " {0, 2, 3, 4, 5, 6, 7, 9},\n",
       " {0, 2, 3, 4, 5, 6, 8, 9},\n",
       " {0, 2, 3, 4, 5, 7, 8, 9},\n",
       " ...]"
      ]
     },
     "execution_count": 104,
     "metadata": {},
     "output_type": "execute_result"
    }
   ],
   "source": [
    "function_4_1(set(range(10)))"
   ]
  },
  {
   "cell_type": "code",
   "execution_count": 105,
   "metadata": {},
   "outputs": [
    {
     "name": "stdout",
     "output_type": "stream",
     "text": [
      "[0, 1, 2, 3, 4, 5, 6, 7, 8, 9]\n"
     ]
    },
    {
     "data": {
      "text/plain": [
       "True"
      ]
     },
     "execution_count": 105,
     "metadata": {},
     "output_type": "execute_result"
    }
   ],
   "source": [
    "check_4_1(set(range(10)), function_4_1(set(range(10))))"
   ]
  },
  {
   "cell_type": "code",
   "execution_count": 106,
   "metadata": {},
   "outputs": [
    {
     "name": "stdout",
     "output_type": "stream",
     "text": [
      "[0]\n"
     ]
    },
    {
     "data": {
      "text/plain": [
       "True"
      ]
     },
     "execution_count": 106,
     "metadata": {},
     "output_type": "execute_result"
    }
   ],
   "source": [
    "check_4_1(set(range(1)), function_4_1(set(range(1))))"
   ]
  },
  {
   "cell_type": "code",
   "execution_count": 107,
   "metadata": {},
   "outputs": [
    {
     "name": "stdout",
     "output_type": "stream",
     "text": [
      "[0, 1, 2, 3, 4, 5, 6, 7, 8, 9, 10, 11, 12, 13, 14, 15, 16, 17, 18, 19]\n"
     ]
    },
    {
     "data": {
      "text/plain": [
       "True"
      ]
     },
     "execution_count": 107,
     "metadata": {},
     "output_type": "execute_result"
    }
   ],
   "source": [
    "check_4_1(set(range(20)), function_4_1(set(range(20))))"
   ]
  },
  {
   "cell_type": "markdown",
   "metadata": {},
   "source": [
    "#### Значение для формы"
   ]
  },
  {
   "cell_type": "code",
   "execution_count": 108,
   "metadata": {},
   "outputs": [
    {
     "name": "stdout",
     "output_type": "stream",
     "text": [
      "[2, 5, 8, 11, 14, 17, 20]\n",
      "220416\n"
     ]
    }
   ],
   "source": [
    "print(sum([\n",
    "    len(subset) - sum(subset) + sum(subset) ** 2\n",
    "    for subset in function_4_1(set(range(2, 21, 3)))\n",
    "]))"
   ]
  },
  {
   "cell_type": "markdown",
   "metadata": {},
   "source": [
    "## Задание 4.2\n",
    "\n",
    "Напишите функцию раскладывающее число на простые множители\n",
    "\n",
    "по числу $n$ нужно вернуть список пар $(p_i, c_i)$ такой, что $\\prod_i~p_i^{c_i} = n$"
   ]
  },
  {
   "cell_type": "code",
   "execution_count": 110,
   "metadata": {},
   "outputs": [],
   "source": [
    "def is_prime(n):\n",
    "    return n > 1 and all(n % i != 0 for i in range(2, n))\n",
    "\n",
    "def function_4_2(n):\n",
    "    res = []\n",
    "    for i in range(1, n):\n",
    "        if (is_prime(i) and (n % i == 0)):\n",
    "            count = 0\n",
    "            m = n\n",
    "            while (m % i == 0):\n",
    "                m /= i\n",
    "                count += 1\n",
    "            res.append((i, count))\n",
    "    return res\n",
    "    #    return []# допишите код здесь\n",
    "\n",
    "    \n",
    "#def func_4_2(n):\n",
    "#    res = []\n",
    "#    prime_list = function_3_2(n)[::-1]\n",
    "#    for i in prime_list:\n",
    "#        count = 0\n",
    "#        m = n\n",
    "#        while ()"
   ]
  },
  {
   "cell_type": "code",
   "execution_count": 111,
   "metadata": {},
   "outputs": [
    {
     "data": {
      "text/plain": [
       "1.5848931924611136"
      ]
     },
     "execution_count": 111,
     "metadata": {},
     "output_type": "execute_result"
    }
   ],
   "source": [
    "10**(1/5)"
   ]
  },
  {
   "cell_type": "code",
   "execution_count": 112,
   "metadata": {},
   "outputs": [
    {
     "data": {
      "text/plain": [
       "[(2, 1), (5, 1)]"
      ]
     },
     "execution_count": 112,
     "metadata": {},
     "output_type": "execute_result"
    }
   ],
   "source": [
    "function_4_2(10)"
   ]
  },
  {
   "cell_type": "code",
   "execution_count": 113,
   "metadata": {},
   "outputs": [],
   "source": [
    "def check_4_2(n, my_list):\n",
    "    prod = 1\n",
    "    for p, c in my_list:\n",
    "        if not is_prime(p):\n",
    "            return False\n",
    "        prod *= p ** c\n",
    "    return prod == n"
   ]
  },
  {
   "cell_type": "code",
   "execution_count": 114,
   "metadata": {},
   "outputs": [
    {
     "data": {
      "text/plain": [
       "True"
      ]
     },
     "execution_count": 114,
     "metadata": {},
     "output_type": "execute_result"
    }
   ],
   "source": [
    "check_4_2(10, function_4_2(10))"
   ]
  },
  {
   "cell_type": "code",
   "execution_count": 115,
   "metadata": {},
   "outputs": [
    {
     "data": {
      "text/plain": [
       "True"
      ]
     },
     "execution_count": 115,
     "metadata": {},
     "output_type": "execute_result"
    }
   ],
   "source": [
    "check_4_2(11690, function_4_2(11690))"
   ]
  },
  {
   "cell_type": "code",
   "execution_count": 39,
   "metadata": {},
   "outputs": [
    {
     "ename": "KeyboardInterrupt",
     "evalue": "",
     "output_type": "error",
     "traceback": [
      "\u001b[1;31m---------------------------------------------------------------------------\u001b[0m",
      "\u001b[1;31mKeyboardInterrupt\u001b[0m                         Traceback (most recent call last)",
      "\u001b[1;32m<ipython-input-39-921f075b4846>\u001b[0m in \u001b[0;36m<module>\u001b[1;34m()\u001b[0m\n\u001b[1;32m----> 1\u001b[1;33m \u001b[0mcheck_4_2\u001b[0m\u001b[1;33m(\u001b[0m\u001b[1;36m254242\u001b[0m\u001b[1;33m,\u001b[0m \u001b[0mfunction_4_2\u001b[0m\u001b[1;33m(\u001b[0m\u001b[1;36m254242\u001b[0m\u001b[1;33m)\u001b[0m\u001b[1;33m)\u001b[0m\u001b[1;33m\u001b[0m\u001b[0m\n\u001b[0m",
      "\u001b[1;32m<ipython-input-33-6763fb4228e5>\u001b[0m in \u001b[0;36mfunction_4_2\u001b[1;34m(n)\u001b[0m\n\u001b[0;32m      5\u001b[0m     \u001b[0mres\u001b[0m \u001b[1;33m=\u001b[0m \u001b[1;33m[\u001b[0m\u001b[1;33m]\u001b[0m\u001b[1;33m\u001b[0m\u001b[0m\n\u001b[0;32m      6\u001b[0m     \u001b[1;32mfor\u001b[0m \u001b[0mi\u001b[0m \u001b[1;32min\u001b[0m \u001b[0mrange\u001b[0m\u001b[1;33m(\u001b[0m\u001b[1;36m1\u001b[0m\u001b[1;33m,\u001b[0m \u001b[0mn\u001b[0m\u001b[1;33m)\u001b[0m\u001b[1;33m:\u001b[0m\u001b[1;33m\u001b[0m\u001b[0m\n\u001b[1;32m----> 7\u001b[1;33m         \u001b[1;32mif\u001b[0m \u001b[1;33m(\u001b[0m\u001b[0mis_prime\u001b[0m\u001b[1;33m(\u001b[0m\u001b[0mi\u001b[0m\u001b[1;33m)\u001b[0m \u001b[1;32mand\u001b[0m \u001b[1;33m(\u001b[0m\u001b[0mn\u001b[0m \u001b[1;33m%\u001b[0m \u001b[0mi\u001b[0m \u001b[1;33m==\u001b[0m \u001b[1;36m0\u001b[0m\u001b[1;33m)\u001b[0m\u001b[1;33m)\u001b[0m\u001b[1;33m:\u001b[0m\u001b[1;33m\u001b[0m\u001b[0m\n\u001b[0m\u001b[0;32m      8\u001b[0m             \u001b[0mcount\u001b[0m \u001b[1;33m=\u001b[0m \u001b[1;36m0\u001b[0m\u001b[1;33m\u001b[0m\u001b[0m\n\u001b[0;32m      9\u001b[0m             \u001b[0mm\u001b[0m \u001b[1;33m=\u001b[0m \u001b[0mn\u001b[0m\u001b[1;33m\u001b[0m\u001b[0m\n",
      "\u001b[1;32m<ipython-input-33-6763fb4228e5>\u001b[0m in \u001b[0;36mis_prime\u001b[1;34m(n)\u001b[0m\n\u001b[0;32m      1\u001b[0m \u001b[1;32mdef\u001b[0m \u001b[0mis_prime\u001b[0m\u001b[1;33m(\u001b[0m\u001b[0mn\u001b[0m\u001b[1;33m)\u001b[0m\u001b[1;33m:\u001b[0m\u001b[1;33m\u001b[0m\u001b[0m\n\u001b[1;32m----> 2\u001b[1;33m     \u001b[1;32mreturn\u001b[0m \u001b[0mn\u001b[0m \u001b[1;33m>\u001b[0m \u001b[1;36m1\u001b[0m \u001b[1;32mand\u001b[0m \u001b[0mall\u001b[0m\u001b[1;33m(\u001b[0m\u001b[0mn\u001b[0m \u001b[1;33m%\u001b[0m \u001b[0mi\u001b[0m \u001b[1;33m!=\u001b[0m \u001b[1;36m0\u001b[0m \u001b[1;32mfor\u001b[0m \u001b[0mi\u001b[0m \u001b[1;32min\u001b[0m \u001b[0mrange\u001b[0m\u001b[1;33m(\u001b[0m\u001b[1;36m2\u001b[0m\u001b[1;33m,\u001b[0m \u001b[0mn\u001b[0m\u001b[1;33m)\u001b[0m\u001b[1;33m)\u001b[0m\u001b[1;33m\u001b[0m\u001b[0m\n\u001b[0m\u001b[0;32m      3\u001b[0m \u001b[1;33m\u001b[0m\u001b[0m\n\u001b[0;32m      4\u001b[0m \u001b[1;32mdef\u001b[0m \u001b[0mfunction_4_2\u001b[0m\u001b[1;33m(\u001b[0m\u001b[0mn\u001b[0m\u001b[1;33m)\u001b[0m\u001b[1;33m:\u001b[0m\u001b[1;33m\u001b[0m\u001b[0m\n\u001b[0;32m      5\u001b[0m     \u001b[0mres\u001b[0m \u001b[1;33m=\u001b[0m \u001b[1;33m[\u001b[0m\u001b[1;33m]\u001b[0m\u001b[1;33m\u001b[0m\u001b[0m\n",
      "\u001b[1;32m<ipython-input-33-6763fb4228e5>\u001b[0m in \u001b[0;36m<genexpr>\u001b[1;34m(.0)\u001b[0m\n\u001b[0;32m      1\u001b[0m \u001b[1;32mdef\u001b[0m \u001b[0mis_prime\u001b[0m\u001b[1;33m(\u001b[0m\u001b[0mn\u001b[0m\u001b[1;33m)\u001b[0m\u001b[1;33m:\u001b[0m\u001b[1;33m\u001b[0m\u001b[0m\n\u001b[1;32m----> 2\u001b[1;33m     \u001b[1;32mreturn\u001b[0m \u001b[0mn\u001b[0m \u001b[1;33m>\u001b[0m \u001b[1;36m1\u001b[0m \u001b[1;32mand\u001b[0m \u001b[0mall\u001b[0m\u001b[1;33m(\u001b[0m\u001b[0mn\u001b[0m \u001b[1;33m%\u001b[0m \u001b[0mi\u001b[0m \u001b[1;33m!=\u001b[0m \u001b[1;36m0\u001b[0m \u001b[1;32mfor\u001b[0m \u001b[0mi\u001b[0m \u001b[1;32min\u001b[0m \u001b[0mrange\u001b[0m\u001b[1;33m(\u001b[0m\u001b[1;36m2\u001b[0m\u001b[1;33m,\u001b[0m \u001b[0mn\u001b[0m\u001b[1;33m)\u001b[0m\u001b[1;33m)\u001b[0m\u001b[1;33m\u001b[0m\u001b[0m\n\u001b[0m\u001b[0;32m      3\u001b[0m \u001b[1;33m\u001b[0m\u001b[0m\n\u001b[0;32m      4\u001b[0m \u001b[1;32mdef\u001b[0m \u001b[0mfunction_4_2\u001b[0m\u001b[1;33m(\u001b[0m\u001b[0mn\u001b[0m\u001b[1;33m)\u001b[0m\u001b[1;33m:\u001b[0m\u001b[1;33m\u001b[0m\u001b[0m\n\u001b[0;32m      5\u001b[0m     \u001b[0mres\u001b[0m \u001b[1;33m=\u001b[0m \u001b[1;33m[\u001b[0m\u001b[1;33m]\u001b[0m\u001b[1;33m\u001b[0m\u001b[0m\n",
      "\u001b[1;31mKeyboardInterrupt\u001b[0m: "
     ]
    }
   ],
   "source": [
    "check_4_2(254242, function_4_2(254242))"
   ]
  },
  {
   "cell_type": "markdown",
   "metadata": {},
   "source": [
    "#### Значение для формы"
   ]
  },
  {
   "cell_type": "code",
   "execution_count": 116,
   "metadata": {},
   "outputs": [
    {
     "name": "stdout",
     "output_type": "stream",
     "text": [
      "441711766194596082395824375185729628956870974218904739530401550323154733\n"
     ]
    }
   ],
   "source": [
    "print(sum(\n",
    "    (c + 1) ** (p - 1) * c - p\n",
    "    for p, c in function_4_2(7648)\n",
    "))"
   ]
  }
 ],
 "metadata": {
  "kernelspec": {
   "display_name": "Python 3",
   "language": "python",
   "name": "python3"
  },
  "language_info": {
   "codemirror_mode": {
    "name": "ipython",
    "version": 3
   },
   "file_extension": ".py",
   "mimetype": "text/x-python",
   "name": "python",
   "nbconvert_exporter": "python",
   "pygments_lexer": "ipython3",
   "version": "3.6.4"
  }
 },
 "nbformat": 4,
 "nbformat_minor": 2
}
